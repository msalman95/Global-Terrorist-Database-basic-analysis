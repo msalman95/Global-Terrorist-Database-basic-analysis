{
 "cells": [
  {
   "cell_type": "markdown",
   "metadata": {},
   "source": [
    "The dataset going to be analyzed is Global Terrorism Database (GTD), which can be downloaded from this link: https://www.start.umd.edu/gtd/ . This dataset contains details on the terrorist attacks around the world from 1970 - 2016 with more than 170,000 cases. The analysis involves cleaning of data, data visualization and comparison of various machine learning methods to predict the terrorist organization responsible for the attack. "
   ]
  },
  {
   "cell_type": "code",
   "execution_count": 1,
   "metadata": {},
   "outputs": [],
   "source": [
    "#Import the various libraries required\n",
    "import pandas as pd\n",
    "import numpy as np\n",
    "from sklearn.metrics import jaccard_similarity_score\n",
    "from scipy import stats\n",
    "from sklearn.model_selection import train_test_split\n",
    "from sklearn import preprocessing, svm\n",
    "from sklearn.ensemble import RandomForestClassifier\n",
    "from sklearn.tree import DecisionTreeClassifier\n",
    "from sklearn.metrics import accuracy_score\n",
    "from sklearn.metrics import precision_score\n",
    "from sklearn.metrics import recall_score\n",
    "import matplotlib.pyplot as plt"
   ]
  },
  {
   "cell_type": "code",
   "execution_count": 2,
   "metadata": {},
   "outputs": [
    {
     "name": "stderr",
     "output_type": "stream",
     "text": [
      "C:\\Users\\Salman\\Anaconda3\\lib\\site-packages\\IPython\\core\\interactiveshell.py:2785: DtypeWarning: Columns (4,6,31,33,53,61,62,63,76,79,90,92,94,96,114,115,121) have mixed types. Specify dtype option on import or set low_memory=False.\n",
      "  interactivity=interactivity, compiler=compiler, result=result)\n"
     ]
    },
    {
     "data": {
      "text/html": [
       "<div>\n",
       "<style scoped>\n",
       "    .dataframe tbody tr th:only-of-type {\n",
       "        vertical-align: middle;\n",
       "    }\n",
       "\n",
       "    .dataframe tbody tr th {\n",
       "        vertical-align: top;\n",
       "    }\n",
       "\n",
       "    .dataframe thead th {\n",
       "        text-align: right;\n",
       "    }\n",
       "</style>\n",
       "<table border=\"1\" class=\"dataframe\">\n",
       "  <thead>\n",
       "    <tr style=\"text-align: right;\">\n",
       "      <th></th>\n",
       "      <th>eventid</th>\n",
       "      <th>iyear</th>\n",
       "      <th>imonth</th>\n",
       "      <th>iday</th>\n",
       "      <th>approxdate</th>\n",
       "      <th>extended</th>\n",
       "      <th>resolution</th>\n",
       "      <th>country</th>\n",
       "      <th>country_txt</th>\n",
       "      <th>region</th>\n",
       "      <th>...</th>\n",
       "      <th>addnotes</th>\n",
       "      <th>scite1</th>\n",
       "      <th>scite2</th>\n",
       "      <th>scite3</th>\n",
       "      <th>dbsource</th>\n",
       "      <th>INT_LOG</th>\n",
       "      <th>INT_IDEO</th>\n",
       "      <th>INT_MISC</th>\n",
       "      <th>INT_ANY</th>\n",
       "      <th>related</th>\n",
       "    </tr>\n",
       "  </thead>\n",
       "  <tbody>\n",
       "    <tr>\n",
       "      <th>0</th>\n",
       "      <td>197000000001</td>\n",
       "      <td>1970</td>\n",
       "      <td>7</td>\n",
       "      <td>2</td>\n",
       "      <td>NaN</td>\n",
       "      <td>0</td>\n",
       "      <td>NaN</td>\n",
       "      <td>58</td>\n",
       "      <td>Dominican Republic</td>\n",
       "      <td>2</td>\n",
       "      <td>...</td>\n",
       "      <td>NaN</td>\n",
       "      <td>NaN</td>\n",
       "      <td>NaN</td>\n",
       "      <td>NaN</td>\n",
       "      <td>PGIS</td>\n",
       "      <td>0</td>\n",
       "      <td>0</td>\n",
       "      <td>0</td>\n",
       "      <td>0</td>\n",
       "      <td>NaN</td>\n",
       "    </tr>\n",
       "    <tr>\n",
       "      <th>1</th>\n",
       "      <td>197000000002</td>\n",
       "      <td>1970</td>\n",
       "      <td>0</td>\n",
       "      <td>0</td>\n",
       "      <td>NaN</td>\n",
       "      <td>0</td>\n",
       "      <td>NaN</td>\n",
       "      <td>130</td>\n",
       "      <td>Mexico</td>\n",
       "      <td>1</td>\n",
       "      <td>...</td>\n",
       "      <td>NaN</td>\n",
       "      <td>NaN</td>\n",
       "      <td>NaN</td>\n",
       "      <td>NaN</td>\n",
       "      <td>PGIS</td>\n",
       "      <td>0</td>\n",
       "      <td>1</td>\n",
       "      <td>1</td>\n",
       "      <td>1</td>\n",
       "      <td>NaN</td>\n",
       "    </tr>\n",
       "    <tr>\n",
       "      <th>2</th>\n",
       "      <td>197001000001</td>\n",
       "      <td>1970</td>\n",
       "      <td>1</td>\n",
       "      <td>0</td>\n",
       "      <td>NaN</td>\n",
       "      <td>0</td>\n",
       "      <td>NaN</td>\n",
       "      <td>160</td>\n",
       "      <td>Philippines</td>\n",
       "      <td>5</td>\n",
       "      <td>...</td>\n",
       "      <td>NaN</td>\n",
       "      <td>NaN</td>\n",
       "      <td>NaN</td>\n",
       "      <td>NaN</td>\n",
       "      <td>PGIS</td>\n",
       "      <td>-9</td>\n",
       "      <td>-9</td>\n",
       "      <td>1</td>\n",
       "      <td>1</td>\n",
       "      <td>NaN</td>\n",
       "    </tr>\n",
       "    <tr>\n",
       "      <th>3</th>\n",
       "      <td>197001000002</td>\n",
       "      <td>1970</td>\n",
       "      <td>1</td>\n",
       "      <td>0</td>\n",
       "      <td>NaN</td>\n",
       "      <td>0</td>\n",
       "      <td>NaN</td>\n",
       "      <td>78</td>\n",
       "      <td>Greece</td>\n",
       "      <td>8</td>\n",
       "      <td>...</td>\n",
       "      <td>NaN</td>\n",
       "      <td>NaN</td>\n",
       "      <td>NaN</td>\n",
       "      <td>NaN</td>\n",
       "      <td>PGIS</td>\n",
       "      <td>-9</td>\n",
       "      <td>-9</td>\n",
       "      <td>1</td>\n",
       "      <td>1</td>\n",
       "      <td>NaN</td>\n",
       "    </tr>\n",
       "    <tr>\n",
       "      <th>4</th>\n",
       "      <td>197001000003</td>\n",
       "      <td>1970</td>\n",
       "      <td>1</td>\n",
       "      <td>0</td>\n",
       "      <td>NaN</td>\n",
       "      <td>0</td>\n",
       "      <td>NaN</td>\n",
       "      <td>101</td>\n",
       "      <td>Japan</td>\n",
       "      <td>4</td>\n",
       "      <td>...</td>\n",
       "      <td>NaN</td>\n",
       "      <td>NaN</td>\n",
       "      <td>NaN</td>\n",
       "      <td>NaN</td>\n",
       "      <td>PGIS</td>\n",
       "      <td>-9</td>\n",
       "      <td>-9</td>\n",
       "      <td>1</td>\n",
       "      <td>1</td>\n",
       "      <td>NaN</td>\n",
       "    </tr>\n",
       "  </tbody>\n",
       "</table>\n",
       "<p>5 rows × 135 columns</p>\n",
       "</div>"
      ],
      "text/plain": [
       "        eventid  iyear  imonth  iday approxdate  extended resolution  country  \\\n",
       "0  197000000001   1970       7     2        NaN         0        NaN       58   \n",
       "1  197000000002   1970       0     0        NaN         0        NaN      130   \n",
       "2  197001000001   1970       1     0        NaN         0        NaN      160   \n",
       "3  197001000002   1970       1     0        NaN         0        NaN       78   \n",
       "4  197001000003   1970       1     0        NaN         0        NaN      101   \n",
       "\n",
       "          country_txt  region   ...    addnotes scite1 scite2  scite3  \\\n",
       "0  Dominican Republic       2   ...         NaN    NaN    NaN     NaN   \n",
       "1              Mexico       1   ...         NaN    NaN    NaN     NaN   \n",
       "2         Philippines       5   ...         NaN    NaN    NaN     NaN   \n",
       "3              Greece       8   ...         NaN    NaN    NaN     NaN   \n",
       "4               Japan       4   ...         NaN    NaN    NaN     NaN   \n",
       "\n",
       "   dbsource  INT_LOG  INT_IDEO INT_MISC INT_ANY  related  \n",
       "0      PGIS        0         0        0       0      NaN  \n",
       "1      PGIS        0         1        1       1      NaN  \n",
       "2      PGIS       -9        -9        1       1      NaN  \n",
       "3      PGIS       -9        -9        1       1      NaN  \n",
       "4      PGIS       -9        -9        1       1      NaN  \n",
       "\n",
       "[5 rows x 135 columns]"
      ]
     },
     "execution_count": 2,
     "metadata": {},
     "output_type": "execute_result"
    }
   ],
   "source": [
    "#read the csv file\n",
    "rawData = pd.read_csv('dataset.csv', encoding = \"ISO-8859-1\");\n",
    "rawData.head()"
   ]
  },
  {
   "cell_type": "code",
   "execution_count": 3,
   "metadata": {},
   "outputs": [
    {
     "data": {
      "text/plain": [
       "(170350, 135)"
      ]
     },
     "execution_count": 3,
     "metadata": {},
     "output_type": "execute_result"
    }
   ],
   "source": [
    "#check the size of data\n",
    "rawData.shape"
   ]
  },
  {
   "cell_type": "code",
   "execution_count": 4,
   "metadata": {},
   "outputs": [
    {
     "data": {
      "text/html": [
       "<div>\n",
       "<style scoped>\n",
       "    .dataframe tbody tr th:only-of-type {\n",
       "        vertical-align: middle;\n",
       "    }\n",
       "\n",
       "    .dataframe tbody tr th {\n",
       "        vertical-align: top;\n",
       "    }\n",
       "\n",
       "    .dataframe thead th {\n",
       "        text-align: right;\n",
       "    }\n",
       "</style>\n",
       "<table border=\"1\" class=\"dataframe\">\n",
       "  <thead>\n",
       "    <tr style=\"text-align: right;\">\n",
       "      <th></th>\n",
       "      <th>eventid</th>\n",
       "      <th>iyear</th>\n",
       "      <th>imonth</th>\n",
       "      <th>iday</th>\n",
       "      <th>extended</th>\n",
       "      <th>country</th>\n",
       "      <th>region</th>\n",
       "      <th>latitude</th>\n",
       "      <th>longitude</th>\n",
       "      <th>specificity</th>\n",
       "      <th>...</th>\n",
       "      <th>ransomamt</th>\n",
       "      <th>ransomamtus</th>\n",
       "      <th>ransompaid</th>\n",
       "      <th>ransompaidus</th>\n",
       "      <th>hostkidoutcome</th>\n",
       "      <th>nreleased</th>\n",
       "      <th>INT_LOG</th>\n",
       "      <th>INT_IDEO</th>\n",
       "      <th>INT_MISC</th>\n",
       "      <th>INT_ANY</th>\n",
       "    </tr>\n",
       "  </thead>\n",
       "  <tbody>\n",
       "    <tr>\n",
       "      <th>count</th>\n",
       "      <td>1.703500e+05</td>\n",
       "      <td>170350.000000</td>\n",
       "      <td>170350.000000</td>\n",
       "      <td>170350.000000</td>\n",
       "      <td>170350.000000</td>\n",
       "      <td>170350.000000</td>\n",
       "      <td>170350.000000</td>\n",
       "      <td>165744.000000</td>\n",
       "      <td>165744.000000</td>\n",
       "      <td>170346.000000</td>\n",
       "      <td>...</td>\n",
       "      <td>1.279000e+03</td>\n",
       "      <td>4.960000e+02</td>\n",
       "      <td>7.070000e+02</td>\n",
       "      <td>487.000000</td>\n",
       "      <td>9911.000000</td>\n",
       "      <td>9322.000000</td>\n",
       "      <td>170350.000000</td>\n",
       "      <td>170350.000000</td>\n",
       "      <td>170350.000000</td>\n",
       "      <td>170350.000000</td>\n",
       "    </tr>\n",
       "    <tr>\n",
       "      <th>mean</th>\n",
       "      <td>2.001776e+11</td>\n",
       "      <td>2001.709997</td>\n",
       "      <td>6.474365</td>\n",
       "      <td>15.466845</td>\n",
       "      <td>0.043634</td>\n",
       "      <td>132.526669</td>\n",
       "      <td>7.091441</td>\n",
       "      <td>23.399774</td>\n",
       "      <td>26.350909</td>\n",
       "      <td>1.454428</td>\n",
       "      <td>...</td>\n",
       "      <td>3.224502e+06</td>\n",
       "      <td>4.519918e+05</td>\n",
       "      <td>3.849663e+05</td>\n",
       "      <td>272.462012</td>\n",
       "      <td>4.624458</td>\n",
       "      <td>-28.717335</td>\n",
       "      <td>-4.583387</td>\n",
       "      <td>-4.510555</td>\n",
       "      <td>0.091083</td>\n",
       "      <td>-3.975128</td>\n",
       "    </tr>\n",
       "    <tr>\n",
       "      <th>std</th>\n",
       "      <td>1.314444e+09</td>\n",
       "      <td>13.144146</td>\n",
       "      <td>3.392364</td>\n",
       "      <td>8.817929</td>\n",
       "      <td>0.204279</td>\n",
       "      <td>112.848161</td>\n",
       "      <td>2.949206</td>\n",
       "      <td>18.844885</td>\n",
       "      <td>58.570068</td>\n",
       "      <td>1.009005</td>\n",
       "      <td>...</td>\n",
       "      <td>3.090625e+07</td>\n",
       "      <td>6.070186e+06</td>\n",
       "      <td>2.435027e+06</td>\n",
       "      <td>3130.068208</td>\n",
       "      <td>2.041008</td>\n",
       "      <td>58.737198</td>\n",
       "      <td>4.542694</td>\n",
       "      <td>4.630440</td>\n",
       "      <td>0.583166</td>\n",
       "      <td>4.691492</td>\n",
       "    </tr>\n",
       "    <tr>\n",
       "      <th>min</th>\n",
       "      <td>1.970000e+11</td>\n",
       "      <td>1970.000000</td>\n",
       "      <td>0.000000</td>\n",
       "      <td>0.000000</td>\n",
       "      <td>0.000000</td>\n",
       "      <td>4.000000</td>\n",
       "      <td>1.000000</td>\n",
       "      <td>-53.154613</td>\n",
       "      <td>-176.176447</td>\n",
       "      <td>1.000000</td>\n",
       "      <td>...</td>\n",
       "      <td>-9.900000e+01</td>\n",
       "      <td>-9.900000e+01</td>\n",
       "      <td>-9.900000e+01</td>\n",
       "      <td>-99.000000</td>\n",
       "      <td>1.000000</td>\n",
       "      <td>-99.000000</td>\n",
       "      <td>-9.000000</td>\n",
       "      <td>-9.000000</td>\n",
       "      <td>-9.000000</td>\n",
       "      <td>-9.000000</td>\n",
       "    </tr>\n",
       "    <tr>\n",
       "      <th>25%</th>\n",
       "      <td>1.990053e+11</td>\n",
       "      <td>1990.000000</td>\n",
       "      <td>4.000000</td>\n",
       "      <td>8.000000</td>\n",
       "      <td>0.000000</td>\n",
       "      <td>75.000000</td>\n",
       "      <td>5.000000</td>\n",
       "      <td>11.263580</td>\n",
       "      <td>2.396199</td>\n",
       "      <td>1.000000</td>\n",
       "      <td>...</td>\n",
       "      <td>0.000000e+00</td>\n",
       "      <td>0.000000e+00</td>\n",
       "      <td>-9.900000e+01</td>\n",
       "      <td>0.000000</td>\n",
       "      <td>2.000000</td>\n",
       "      <td>-99.000000</td>\n",
       "      <td>-9.000000</td>\n",
       "      <td>-9.000000</td>\n",
       "      <td>0.000000</td>\n",
       "      <td>-9.000000</td>\n",
       "    </tr>\n",
       "    <tr>\n",
       "      <th>50%</th>\n",
       "      <td>2.007121e+11</td>\n",
       "      <td>2007.000000</td>\n",
       "      <td>6.000000</td>\n",
       "      <td>15.000000</td>\n",
       "      <td>0.000000</td>\n",
       "      <td>98.000000</td>\n",
       "      <td>6.000000</td>\n",
       "      <td>31.472680</td>\n",
       "      <td>43.130000</td>\n",
       "      <td>1.000000</td>\n",
       "      <td>...</td>\n",
       "      <td>1.420000e+04</td>\n",
       "      <td>0.000000e+00</td>\n",
       "      <td>0.000000e+00</td>\n",
       "      <td>0.000000</td>\n",
       "      <td>4.000000</td>\n",
       "      <td>0.000000</td>\n",
       "      <td>-9.000000</td>\n",
       "      <td>-9.000000</td>\n",
       "      <td>0.000000</td>\n",
       "      <td>0.000000</td>\n",
       "    </tr>\n",
       "    <tr>\n",
       "      <th>75%</th>\n",
       "      <td>2.014023e+11</td>\n",
       "      <td>2014.000000</td>\n",
       "      <td>9.000000</td>\n",
       "      <td>23.000000</td>\n",
       "      <td>0.000000</td>\n",
       "      <td>160.000000</td>\n",
       "      <td>10.000000</td>\n",
       "      <td>34.744167</td>\n",
       "      <td>68.451297</td>\n",
       "      <td>1.000000</td>\n",
       "      <td>...</td>\n",
       "      <td>4.000000e+05</td>\n",
       "      <td>0.000000e+00</td>\n",
       "      <td>7.356800e+02</td>\n",
       "      <td>0.000000</td>\n",
       "      <td>7.000000</td>\n",
       "      <td>1.000000</td>\n",
       "      <td>0.000000</td>\n",
       "      <td>0.000000</td>\n",
       "      <td>0.000000</td>\n",
       "      <td>0.000000</td>\n",
       "    </tr>\n",
       "    <tr>\n",
       "      <th>max</th>\n",
       "      <td>2.017013e+11</td>\n",
       "      <td>2016.000000</td>\n",
       "      <td>12.000000</td>\n",
       "      <td>31.000000</td>\n",
       "      <td>1.000000</td>\n",
       "      <td>1004.000000</td>\n",
       "      <td>12.000000</td>\n",
       "      <td>74.633553</td>\n",
       "      <td>179.366667</td>\n",
       "      <td>5.000000</td>\n",
       "      <td>...</td>\n",
       "      <td>1.000000e+09</td>\n",
       "      <td>1.320000e+08</td>\n",
       "      <td>4.100000e+07</td>\n",
       "      <td>48000.000000</td>\n",
       "      <td>7.000000</td>\n",
       "      <td>1201.000000</td>\n",
       "      <td>1.000000</td>\n",
       "      <td>1.000000</td>\n",
       "      <td>1.000000</td>\n",
       "      <td>1.000000</td>\n",
       "    </tr>\n",
       "  </tbody>\n",
       "</table>\n",
       "<p>8 rows × 77 columns</p>\n",
       "</div>"
      ],
      "text/plain": [
       "            eventid          iyear         imonth           iday  \\\n",
       "count  1.703500e+05  170350.000000  170350.000000  170350.000000   \n",
       "mean   2.001776e+11    2001.709997       6.474365      15.466845   \n",
       "std    1.314444e+09      13.144146       3.392364       8.817929   \n",
       "min    1.970000e+11    1970.000000       0.000000       0.000000   \n",
       "25%    1.990053e+11    1990.000000       4.000000       8.000000   \n",
       "50%    2.007121e+11    2007.000000       6.000000      15.000000   \n",
       "75%    2.014023e+11    2014.000000       9.000000      23.000000   \n",
       "max    2.017013e+11    2016.000000      12.000000      31.000000   \n",
       "\n",
       "            extended        country         region       latitude  \\\n",
       "count  170350.000000  170350.000000  170350.000000  165744.000000   \n",
       "mean        0.043634     132.526669       7.091441      23.399774   \n",
       "std         0.204279     112.848161       2.949206      18.844885   \n",
       "min         0.000000       4.000000       1.000000     -53.154613   \n",
       "25%         0.000000      75.000000       5.000000      11.263580   \n",
       "50%         0.000000      98.000000       6.000000      31.472680   \n",
       "75%         0.000000     160.000000      10.000000      34.744167   \n",
       "max         1.000000    1004.000000      12.000000      74.633553   \n",
       "\n",
       "           longitude    specificity      ...           ransomamt  \\\n",
       "count  165744.000000  170346.000000      ...        1.279000e+03   \n",
       "mean       26.350909       1.454428      ...        3.224502e+06   \n",
       "std        58.570068       1.009005      ...        3.090625e+07   \n",
       "min      -176.176447       1.000000      ...       -9.900000e+01   \n",
       "25%         2.396199       1.000000      ...        0.000000e+00   \n",
       "50%        43.130000       1.000000      ...        1.420000e+04   \n",
       "75%        68.451297       1.000000      ...        4.000000e+05   \n",
       "max       179.366667       5.000000      ...        1.000000e+09   \n",
       "\n",
       "        ransomamtus    ransompaid  ransompaidus  hostkidoutcome    nreleased  \\\n",
       "count  4.960000e+02  7.070000e+02    487.000000     9911.000000  9322.000000   \n",
       "mean   4.519918e+05  3.849663e+05    272.462012        4.624458   -28.717335   \n",
       "std    6.070186e+06  2.435027e+06   3130.068208        2.041008    58.737198   \n",
       "min   -9.900000e+01 -9.900000e+01    -99.000000        1.000000   -99.000000   \n",
       "25%    0.000000e+00 -9.900000e+01      0.000000        2.000000   -99.000000   \n",
       "50%    0.000000e+00  0.000000e+00      0.000000        4.000000     0.000000   \n",
       "75%    0.000000e+00  7.356800e+02      0.000000        7.000000     1.000000   \n",
       "max    1.320000e+08  4.100000e+07  48000.000000        7.000000  1201.000000   \n",
       "\n",
       "             INT_LOG       INT_IDEO       INT_MISC        INT_ANY  \n",
       "count  170350.000000  170350.000000  170350.000000  170350.000000  \n",
       "mean       -4.583387      -4.510555       0.091083      -3.975128  \n",
       "std         4.542694       4.630440       0.583166       4.691492  \n",
       "min        -9.000000      -9.000000      -9.000000      -9.000000  \n",
       "25%        -9.000000      -9.000000       0.000000      -9.000000  \n",
       "50%        -9.000000      -9.000000       0.000000       0.000000  \n",
       "75%         0.000000       0.000000       0.000000       0.000000  \n",
       "max         1.000000       1.000000       1.000000       1.000000  \n",
       "\n",
       "[8 rows x 77 columns]"
      ]
     },
     "execution_count": 4,
     "metadata": {},
     "output_type": "execute_result"
    }
   ],
   "source": [
    "rawData.describe()"
   ]
  },
  {
   "cell_type": "markdown",
   "metadata": {},
   "source": [
    "After reading the details of each feature from codebook provided on https://www.start.umd.edu/gtd , choose the features which are important"
   ]
  },
  {
   "cell_type": "code",
   "execution_count": 6,
   "metadata": {},
   "outputs": [
    {
     "data": {
      "text/plain": [
       "iyear                0\n",
       "imonth               0\n",
       "iday                 0\n",
       "extended             0\n",
       "doubtterr            0\n",
       "specificity          4\n",
       "crit1                0\n",
       "crit2                0\n",
       "crit3                0\n",
       "multiple             0\n",
       "country              0\n",
       "region               0\n",
       "city               446\n",
       "vicinity             0\n",
       "attacktype1          0\n",
       "natlty1           1394\n",
       "weaptype1            0\n",
       "weapsubtype1     19426\n",
       "suicide              0\n",
       "success              0\n",
       "targtype1            0\n",
       "targsubtype1      9345\n",
       "ishostkid          178\n",
       "ransom           94037\n",
       "nperps           71124\n",
       "claimed          66134\n",
       "claimmode       154102\n",
       "nkill             9682\n",
       "nkillter         66663\n",
       "nwound           15325\n",
       "nwoundte         68749\n",
       "property             0\n",
       "nreleased       161028\n",
       "INT_LOG              0\n",
       "INT_IDEO             0\n",
       "INT_MISC             0\n",
       "INT_ANY              0\n",
       "gname                0\n",
       "dtype: int64"
      ]
     },
     "execution_count": 6,
     "metadata": {},
     "output_type": "execute_result"
    }
   ],
   "source": [
    "#take the important features and check for the missing values of each feature\n",
    "impData = rawData[['iyear','imonth','iday','extended','doubtterr','specificity','crit1','crit2','crit3','multiple','country','region','city','vicinity','attacktype1','natlty1','weaptype1','weapsubtype1','suicide','success','targtype1','targsubtype1','ishostkid','ransom','nperps','claimed','claimmode','nkill','nkillter','nwound','nwoundte','property','nreleased','INT_LOG','INT_IDEO','INT_MISC','INT_ANY','gname']];\n",
    "pd.isnull(impData).sum()"
   ]
  },
  {
   "cell_type": "code",
   "execution_count": 7,
   "metadata": {},
   "outputs": [
    {
     "data": {
      "text/plain": [
       "count      170350\n",
       "unique       3454\n",
       "top       Unknown\n",
       "freq        78306\n",
       "Name: gname, dtype: object"
      ]
     },
     "execution_count": 7,
     "metadata": {},
     "output_type": "execute_result"
    }
   ],
   "source": [
    "impData.gname.describe()"
   ]
  },
  {
   "cell_type": "code",
   "execution_count": 8,
   "metadata": {
    "scrolled": true
   },
   "outputs": [
    {
     "data": {
      "text/plain": [
       "Unknown                                             78306\n",
       "Taliban                                              6575\n",
       "Shining Path (SL)                                    4551\n",
       "Islamic State of Iraq and the Levant (ISIL)          4287\n",
       "Farabundo Marti National Liberation Front (FMLN)     3351\n",
       "Al-Shabaab                                           2683\n",
       "Irish Republican Army (IRA)                          2669\n",
       "Revolutionary Armed Forces of Colombia (FARC)        2481\n",
       "New People's Army (NPA)                              2414\n",
       "Kurdistan Workers' Party (PKK)                       2152\n",
       "Boko Haram                                           2077\n",
       "Basque Fatherland and Freedom (ETA)                  2024\n",
       "Communist Party of India - Maoist (CPI-Maoist)       1766\n",
       "Liberation Tigers of Tamil Eelam (LTTE)              1606\n",
       "National Liberation Army of Colombia (ELN)           1483\n",
       "Maoists                                              1424\n",
       "Tehrik-i-Taliban Pakistan (TTP)                      1252\n",
       "Palestinians                                         1124\n",
       "Al-Qaida in the Arabian Peninsula (AQAP)              975\n",
       "Nicaraguan Democratic Force (FDN)                     895\n",
       "Houthi extremists (Ansar Allah)                       893\n",
       "Manuel Rodriguez Patriotic Front (FPMR)               830\n",
       "Sikh Extremists                                       714\n",
       "Corsican National Liberation Front (FLNC)             639\n",
       "Al-Qaida in Iraq                                      636\n",
       "Donetsk People's Republic                             614\n",
       "African National Congress (South Africa)              607\n",
       "Separatists                                           571\n",
       "Muslim extremists                                     561\n",
       "Tupac Amaru Revolutionary Movement (MRTA)             557\n",
       "                                                    ...  \n",
       "Kani Brigade                                            1\n",
       "Lashkari-e-Adam (Army of Adam)                          1\n",
       "Liberation Front of Southern Sudan                      1\n",
       "Revolutionary Front                                     1\n",
       "Revolutionary Coordination of the Masses                1\n",
       "Al-Marabitun Revolutionary Committee                    1\n",
       "Nazi Boerestat Party                                    1\n",
       "Katap Ethic Group                                       1\n",
       "Revolutionary Headquarters (Turkey)                     1\n",
       "Tribal Clash                                            1\n",
       "MANO-D                                                  1\n",
       "Armed Struggle Cells                                    1\n",
       "Syrian Army deserters                                   1\n",
       "self-styled iconoclasts-nihilists                       1\n",
       "Sudanese mostly Christian rebels                        1\n",
       "Nahzat e Eslami                                         1\n",
       "White Legion (Ecuador)                                  1\n",
       "Former Border Policeman                                 1\n",
       "Supporters Opposition Leader Etienne Tshisekedi         1\n",
       "Arnoldo Camu Command                                    1\n",
       "First May Movement                                      1\n",
       "Chinese Illegal Immigrant                               1\n",
       "Matan Abdulle                                           1\n",
       "Free Democratic People's Government of Laos             1\n",
       "Rastriya Janashakti Party (RJP)                         1\n",
       "Nobles of Jordan                                        1\n",
       "United Wa State Army                                    1\n",
       "Local Extremist                                         1\n",
       "Tabu Tribe                                              1\n",
       "Ningo Tribe                                             1\n",
       "Name: gname, Length: 3454, dtype: int64"
      ]
     },
     "execution_count": 8,
     "metadata": {},
     "output_type": "execute_result"
    }
   ],
   "source": [
    "#Check the distribution of class to check how balanced it is\n",
    "impData.gname.value_counts()"
   ]
  },
  {
   "cell_type": "code",
   "execution_count": 23,
   "metadata": {},
   "outputs": [
    {
     "name": "stdout",
     "output_type": "stream",
     "text": [
      "The percentage of missing data: 45.967714%\n"
     ]
    }
   ],
   "source": [
    "#Pecentage of missing labels\n",
    "misVal = impData[impData.gname == 'Unknown'].gname.count();\n",
    "misVal = (misVal/len(impData.gname))*100;\n",
    "print('The percentage of missing data: %f%%' %misVal);"
   ]
  },
  {
   "cell_type": "code",
   "execution_count": 9,
   "metadata": {},
   "outputs": [
    {
     "data": {
      "text/plain": [
       "<matplotlib.axes._subplots.AxesSubplot at 0x54f5c50>"
      ]
     },
     "execution_count": 9,
     "metadata": {},
     "output_type": "execute_result"
    },
    {
     "data": {
      "image/png": "[encoded data removed]",
      "text/plain": [
       "<Figure size 432x288 with 1 Axes>"
      ]
     },
     "metadata": {},
     "output_type": "display_data"
    }
   ],
   "source": [
    "#First lets see the frequency of terrorist attacks w.r.t year\n",
    "impData.iyear.hist(bins = 40)"
   ]
  },
  {
   "cell_type": "markdown",
   "metadata": {},
   "source": [
    "Lets try to predict the terrorist organizations using the features with no/few missing values and check the performances."
   ]
  },
  {
   "cell_type": "code",
   "execution_count": 24,
   "metadata": {},
   "outputs": [
    {
     "data": {
      "text/plain": [
       "count       85862\n",
       "unique        559\n",
       "top       Taliban\n",
       "freq         6575\n",
       "Name: gname, dtype: object"
      ]
     },
     "execution_count": 24,
     "metadata": {},
     "output_type": "execute_result"
    }
   ],
   "source": [
    "#Fill the 4 missing values of specificity using mode corresponding to the country\n",
    "newData = impData.drop(['city','natlty1','weapsubtype1','targsubtype1','ransom','nperps','claimed','claimmode','nkill','nkillter','nwound','nwoundte','nreleased'],axis = 1);\n",
    "ind = np.array(newData[pd.isnull(newData['specificity'])].country);\n",
    "temp = np.zeros(ind.shape)\n",
    "for i in range(len(ind)):\n",
    "    temp[i] = newData[newData.country == ind[i]].specificity.mode();\n",
    "newData.loc[pd.isnull(newData['specificity']),'specificity'] = temp;\n",
    "#Replace the unknown values with -9 which represents unknown\n",
    "newData.ishostkid.fillna(-9,inplace = True);\n",
    "#Remove the unknown labels and class with frequency less than 10\n",
    "unknownData = newData[newData.gname == 'Unknown'];\n",
    "newData = newData[newData.gname != 'Unknown'];\n",
    "newData = newData.groupby('gname').filter(lambda x: len(x) >= 10);\n",
    "#Split data into feature and label\n",
    "X = np.array(newData.drop(['gname'],1));\n",
    "y = newData.gname;\n",
    "y.describe()"
   ]
  },
  {
   "cell_type": "code",
   "execution_count": 25,
   "metadata": {},
   "outputs": [],
   "source": [
    "#Convert the labels into integers\n",
    "y = y.astype('category');\n",
    "y = y.cat.codes;\n",
    "y = np.array(y);"
   ]
  },
  {
   "cell_type": "code",
   "execution_count": 26,
   "metadata": {},
   "outputs": [],
   "source": [
    "#Standardizing the data\n",
    "stdX = preprocessing.scale(X);\n",
    "#Split the data into test and train using stratified random sampling since classes are not balanced\n",
    "Xtrain, Xtest, ytrain, ytest = train_test_split(stdX,y,test_size = 0.2,shuffle = True,stratify = y);"
   ]
  },
  {
   "cell_type": "markdown",
   "metadata": {},
   "source": [
    "First lets fit a linear SVM classifier"
   ]
  },
  {
   "cell_type": "code",
   "execution_count": 13,
   "metadata": {},
   "outputs": [
    {
     "name": "stdout",
     "output_type": "stream",
     "text": [
      "Accuracy: 0.368485 , Precision: 0.558770 , Recall: 0.368485 \n"
     ]
    },
    {
     "name": "stderr",
     "output_type": "stream",
     "text": [
      "C:\\Users\\Salman\\Anaconda3\\lib\\site-packages\\sklearn\\metrics\\classification.py:1135: UndefinedMetricWarning: Precision is ill-defined and being set to 0.0 in labels with no predicted samples.\n",
      "  'precision', 'predicted', average, warn_for)\n"
     ]
    }
   ],
   "source": [
    "#SVM with linear kernel, Try using other kernel like poly or RBF\n",
    "clf = svm.LinearSVC(class_weight='balanced');\n",
    "clf.fit(Xtrain, ytrain);\n",
    "y_pred = clf.predict(Xtest);\n",
    "#Check the performance of the model\n",
    "acc = accuracy_score(ytest, y_pred);\n",
    "pre = precision_score(ytest, y_pred, average='weighted');\n",
    "rec = recall_score(ytest, y_pred, average='weighted');\n",
    "print('Accuracy: %f , Precision: %f , Recall: %f ' %(acc, pre, rec));"
   ]
  },
  {
   "cell_type": "markdown",
   "metadata": {},
   "source": [
    "Now lets fit a decision tree model and a random forest model"
   ]
  },
  {
   "cell_type": "code",
   "execution_count": 14,
   "metadata": {
    "scrolled": true
   },
   "outputs": [
    {
     "name": "stdout",
     "output_type": "stream",
     "text": [
      "Accuracy: 0.804402 , Precision: 0.809865 , Recall: 0.804402 \n"
     ]
    },
    {
     "name": "stderr",
     "output_type": "stream",
     "text": [
      "C:\\Users\\Salman\\Anaconda3\\lib\\site-packages\\sklearn\\metrics\\classification.py:1135: UndefinedMetricWarning: Precision is ill-defined and being set to 0.0 in labels with no predicted samples.\n",
      "  'precision', 'predicted', average, warn_for)\n"
     ]
    }
   ],
   "source": [
    "#Decision Tree\n",
    "clf2 = DecisionTreeClassifier(class_weight = 'balanced');\n",
    "clf2.fit(Xtrain, ytrain);\n",
    "y_pred2 = clf2.predict(Xtest);\n",
    "#Check the performance of the model\n",
    "acc = accuracy_score(ytest, y_pred2);\n",
    "pre = precision_score(ytest, y_pred2, average='weighted');\n",
    "rec = recall_score(ytest, y_pred2, average='weighted');\n",
    "print('Accuracy: %f , Precision: %f , Recall: %f ' %(acc, pre, rec));"
   ]
  },
  {
   "cell_type": "code",
   "execution_count": 27,
   "metadata": {},
   "outputs": [
    {
     "name": "stderr",
     "output_type": "stream",
     "text": [
      "C:\\Users\\Salman\\Anaconda3\\lib\\site-packages\\sklearn\\metrics\\classification.py:1135: UndefinedMetricWarning: Precision is ill-defined and being set to 0.0 in labels with no predicted samples.\n",
      "  'precision', 'predicted', average, warn_for)\n"
     ]
    },
    {
     "name": "stdout",
     "output_type": "stream",
     "text": [
      "Accuracy: 0.821872 , Precision: 0.809068 , Recall: 0.821872 \n"
     ]
    }
   ],
   "source": [
    "#Lets use 25 number of trees in the forest, however chooose more according to your laptop\n",
    "clf3 = RandomForestClassifier(n_estimators=25,bootstrap = True, class_weight = 'balanced');\n",
    "clf3.fit(Xtrain, ytrain);\n",
    "y_pred3 = clf3.predict(Xtest);\n",
    "#Check the performance of the model\n",
    "acc = accuracy_score(ytest, y_pred3);\n",
    "pre = precision_score(ytest, y_pred3, average='weighted');\n",
    "rec = recall_score(ytest, y_pred3, average='weighted');\n",
    "print('Accuracy: %f , Precision: %f , Recall: %f ' %(acc, pre, rec));"
   ]
  },
  {
   "cell_type": "markdown",
   "metadata": {},
   "source": [
    "It can be seen that the performance of decision trees and random forest is much better than SVM classifier. Moreover, using only a few features, a good model with accuracy around 80% can be obtained using decision trees and random forests. Lets check how our Decision tree model works on Unknown data and if the predictions makes sense."
   ]
  },
  {
   "cell_type": "code",
   "execution_count": 16,
   "metadata": {},
   "outputs": [],
   "source": [
    "Xunknown = np.array(unknownData.drop(['gname'],1));\n",
    "ypred_u = clf2.predict(Xunknown);"
   ]
  },
  {
   "cell_type": "code",
   "execution_count": 17,
   "metadata": {
    "collapsed": true
   },
   "outputs": [
    {
     "name": "stdout",
     "output_type": "stream",
     "text": [
      "The mean Jaccard distance: 0.694102\n",
      "The mean Jaccard distance: 1.000000\n"
     ]
    }
   ],
   "source": [
    "#Calculate the jaccard index using the comparable important features - extended, Country, region, attacktype1, weapontype1, targttype1,ishostkid\n",
    "relUnknown = Xunknown[:,[3,10,11,13,14,15,16,17,18]];\n",
    "maxScore = np.zeros(len(relUnknown));\n",
    "#Iterate through the loop to find max similarity distance from relevant data\n",
    "for i in range(len(relUnknown)):\n",
    "    relData = X[y == ypred_u[i]];\n",
    "    relData = relData[:,[3,10,11,13,14,15,16,17,18]];\n",
    "    dist = np.zeros(len(relData));\n",
    "    for j in range(len(relData)):\n",
    "        dist[j] = jaccard_similarity_score(relData[j,:], relUnknown[i,:]);\n",
    "    maxScore[i] = np.amax(dist);\n",
    "avgscore = np.mean(maxScore);\n",
    "maxscore = np.amax(maxScore);"
   ]
  },
  {
   "cell_type": "code",
   "execution_count": 18,
   "metadata": {},
   "outputs": [
    {
     "name": "stdout",
     "output_type": "stream",
     "text": [
      "The mean Jaccard distance: 0.694102\n",
      "The max Jaccard distance: 1.000000\n"
     ]
    }
   ],
   "source": [
    "print('The mean Jaccard distance: %f' %avgscore);\n",
    "print('The max Jaccard distance: %f' %maxscore);"
   ]
  },
  {
   "cell_type": "markdown",
   "metadata": {},
   "source": [
    "Now, lets try to use all the features, ignoring every row with any missing value "
   ]
  },
  {
   "cell_type": "code",
   "execution_count": 19,
   "metadata": {},
   "outputs": [
    {
     "data": {
      "text/plain": [
       "(815, 38)"
      ]
     },
     "execution_count": 19,
     "metadata": {},
     "output_type": "execute_result"
    }
   ],
   "source": [
    "impData = rawData[['iyear','imonth','iday','extended','doubtterr','specificity','crit1','crit2','crit3','multiple','country','region','city','vicinity','attacktype1','natlty1','weaptype1','weapsubtype1','suicide','success','targtype1','targsubtype1','ishostkid','ransom','nperps','claimed','claimmode','nkill','nkillter','nwound','nwoundte','property','nreleased','INT_LOG','INT_IDEO','INT_MISC','INT_ANY','gname']];\n",
    "dropData = impData.dropna();\n",
    "dropData.shape"
   ]
  },
  {
   "cell_type": "markdown",
   "metadata": {},
   "source": [
    "If we drop any row with any missing values, we end up with almost no data. Therefore, now we should try to fill the missing values. The features with alot of missing values should not be filled with mean or mode or knn because that would decrease variance and introduce bias in the model. However, lets try to fill the missing values in the following features -  city, natlty1, weapsubtype1 and targsubtype1 see if it increases the accuracy."
   ]
  },
  {
   "cell_type": "code",
   "execution_count": 39,
   "metadata": {},
   "outputs": [],
   "source": [
    "#Remove the other features with too many missing values.\n",
    "mfData = impData.drop(['ransom','nperps','claimed','claimmode','nkillter','nwoundte','nreleased'],axis = 1);\n",
    "ind = np.array(mfData[pd.isnull(mfData['specificity'])].country);\n",
    "temp = np.zeros(ind.shape)\n",
    "for i in range(len(ind)):\n",
    "    temp[i] = mfData[mfData.country == ind[i]].specificity.mode();\n",
    "mfData.loc[pd.isnull(mfData['specificity']),'specificity'] = temp;\n",
    "#Replace all the unknown values in ishostkid\n",
    "mfData.ishostkid.fillna(mfData.ishostkid.mode(),inplace = True);\n",
    "#Replace the missing values in nkill and nwound\n",
    "mfData.nkill.fillna(mfData.nkill.median(),inplace = True);\n",
    "mfData.nwound.fillna(mfData.nwound.median(),inplace = True);\n",
    "mfData.fillna(-1,inplace = True);\n",
    "#Convert City from categorical to numeric\n",
    "mfData.city = mfData.city.astype('category');\n",
    "mfData.city = mfData.city.cat.codes;\n",
    "#Remove the unknown labels and class with frequency less than 10\n",
    "unknownData2 = mfData[mfData.gname == 'Unknown'];\n",
    "mfData = mfData[mfData.gname != 'Unknown'];\n",
    "mfData = mfData.groupby('gname').filter(lambda x: len(x) >= 10);\n",
    "#Split data into feature and label\n",
    "X = np.array(mfData.drop(['gname'],1));\n",
    "y = mfData.gname;\n",
    "#Convert the labels into integers\n",
    "y = y.astype('category');\n",
    "y = y.cat.codes;\n",
    "y = np.array(y);"
   ]
  },
  {
   "cell_type": "code",
   "execution_count": 40,
   "metadata": {},
   "outputs": [],
   "source": [
    "#Standardizing the data\n",
    "stdX = preprocessing.scale(X);\n",
    "#Split the data into test and train using stratified random sampling since classes are not balanced\n",
    "Xtrain, Xtest, ytrain, ytest = train_test_split(stdX,y,test_size = 0.2,shuffle = True,stratify = y);"
   ]
  },
  {
   "cell_type": "code",
   "execution_count": 41,
   "metadata": {},
   "outputs": [
    {
     "name": "stdout",
     "output_type": "stream",
     "text": [
      "Accuracy: 0.376987 , Precision: 0.584556 , Recall: 0.376987 \n"
     ]
    },
    {
     "name": "stderr",
     "output_type": "stream",
     "text": [
      "C:\\Users\\Salman\\Anaconda3\\lib\\site-packages\\sklearn\\metrics\\classification.py:1135: UndefinedMetricWarning: Precision is ill-defined and being set to 0.0 in labels with no predicted samples.\n",
      "  'precision', 'predicted', average, warn_for)\n"
     ]
    }
   ],
   "source": [
    "#SVM with linear kernel\n",
    "clf = svm.LinearSVC(class_weight='balanced');\n",
    "clf.fit(Xtrain, ytrain);\n",
    "y_pred = clf.predict(Xtest);\n",
    "#Check the performance of the model\n",
    "acc = accuracy_score(ytest, y_pred);\n",
    "pre = precision_score(ytest, y_pred, average='weighted');\n",
    "rec = recall_score(ytest, y_pred, average='weighted');\n",
    "print('Accuracy: %f , Precision: %f , Recall: %f ' %(acc, pre, rec));"
   ]
  },
  {
   "cell_type": "code",
   "execution_count": 42,
   "metadata": {},
   "outputs": [
    {
     "name": "stdout",
     "output_type": "stream",
     "text": [
      "Accuracy: 0.803587 , Precision: 0.809244 , Recall: 0.803587 \n"
     ]
    },
    {
     "name": "stderr",
     "output_type": "stream",
     "text": [
      "C:\\Users\\Salman\\Anaconda3\\lib\\site-packages\\sklearn\\metrics\\classification.py:1135: UndefinedMetricWarning: Precision is ill-defined and being set to 0.0 in labels with no predicted samples.\n",
      "  'precision', 'predicted', average, warn_for)\n"
     ]
    }
   ],
   "source": [
    "#Decision Tree\n",
    "clf2 = DecisionTreeClassifier(class_weight = 'balanced');\n",
    "clf2.fit(Xtrain, ytrain);\n",
    "y_pred2 = clf2.predict(Xtest);\n",
    "#Check the performance of the model\n",
    "acc = accuracy_score(ytest, y_pred2);\n",
    "pre = precision_score(ytest, y_pred2, average='weighted');\n",
    "rec = recall_score(ytest, y_pred2, average='weighted');\n",
    "print('Accuracy: %f , Precision: %f , Recall: %f ' %(acc, pre, rec));"
   ]
  },
  {
   "cell_type": "code",
   "execution_count": 43,
   "metadata": {},
   "outputs": [
    {
     "name": "stdout",
     "output_type": "stream",
     "text": [
      "Accuracy: 0.812671 , Precision: 0.797780 , Recall: 0.812671 \n"
     ]
    },
    {
     "name": "stderr",
     "output_type": "stream",
     "text": [
      "C:\\Users\\Salman\\Anaconda3\\lib\\site-packages\\sklearn\\metrics\\classification.py:1135: UndefinedMetricWarning: Precision is ill-defined and being set to 0.0 in labels with no predicted samples.\n",
      "  'precision', 'predicted', average, warn_for)\n"
     ]
    }
   ],
   "source": [
    "#Lets use 10 (default) number of trees in the forest, however chooose more according to your working environment\n",
    "clf3 = RandomForestClassifier(bootstrap = True, class_weight = 'balanced');\n",
    "clf3.fit(Xtrain, ytrain);\n",
    "y_pred3 = clf3.predict(Xtest);\n",
    "#Check the performance of the model\n",
    "acc = accuracy_score(ytest, y_pred3);\n",
    "pre = precision_score(ytest, y_pred3, average='weighted');\n",
    "rec = recall_score(ytest, y_pred3, average='weighted');\n",
    "print('Accuracy: %f , Precision: %f , Recall: %f ' %(acc, pre, rec));"
   ]
  },
  {
   "cell_type": "markdown",
   "metadata": {},
   "source": [
    "Even after including new features, the models accuracies don't change by much. SVM with linear kernel does not fit well with the data. To increase the accuracy of SVM, polynomial or RBF kernel should be implemented. Moreover, random forests performance is almost identical to decision trees. "
   ]
  }
 ],
 "metadata": {
  "kernelspec": {
   "display_name": "Python 3",
   "language": "python",
   "name": "python3"
  },
  "language_info": {
   "codemirror_mode": {
    "name": "ipython",
    "version": 3
   },
   "file_extension": ".py",
   "mimetype": "text/x-python",
   "name": "python",
   "nbconvert_exporter": "python",
   "pygments_lexer": "ipython3",
   "version": "3.6.5"
  }
 },
 "nbformat": 4,
 "nbformat_minor": 2
}
